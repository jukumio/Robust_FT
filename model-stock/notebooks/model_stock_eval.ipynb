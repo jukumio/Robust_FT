{
 "cells": [
  {
   "cell_type": "code",
   "execution_count": 7,
   "metadata": {},
   "outputs": [],
   "source": [
    "import sys\n",
    "sys.path.append('../model-soups')\n",
    "\n",
    "from datasets import ImageNet, ImageNetV2, ImageNetSketch, ImageNetR, ObjectNet, ImageNetA\n",
    "from utils import get_model_from_sd, test_model_on_dataset\n",
    "\n",
    "data_location = '/path/to/dataset/'\n",
    "data_location = '/mnt/tmp/'\n",
    "batch_size = 256\n",
    "workers = 4"
   ]
  },
  {
   "cell_type": "markdown",
   "metadata": {},
   "source": [
    "### Download model weights trained with Model Stock \n",
    "- Downliad link: [link](https://www.dropbox.com/scl/fo/shyzn327ge206n3fimomd/AKY_mVAN_kFiR2ejpAGPHQ8?rlkey=qk76yc6jisv8fjf2zdtrw4ki6&st=m43urvv3&dl=0)\n",
    "- CLIP ViT-B/32 Model Stock: `clip_vit_b_32_model_stock.pt`\n",
    "- CLIP ViT-B/32 Model Stock*: `clip_vit_b_32_model_stock_star.pt`\n"
   ]
  },
  {
   "cell_type": "code",
   "execution_count": 9,
   "metadata": {},
   "outputs": [],
   "source": [
    "import torch\n",
    "model_stock = torch.load('/model/path/clip_vit_b_32_model_stock.pt')\n",
    "model_stock_star = torch.load('/model/path/clip_vit_b_32_model_stock_star.pt')\n"
   ]
  },
  {
   "cell_type": "code",
   "execution_count": 10,
   "metadata": {},
   "outputs": [],
   "source": [
    "import clip\n",
    "import numpy as np\n",
    "\n",
    "# reference: https://github.com/mlfoundations/model-soups/blob/main/main.py#L90-L103\n",
    "def eval_model(model_state_dict):\n",
    "    base_model, preprocess = clip.load('ViT-B/32', 'cpu', jit=False)    \n",
    "    model = get_model_from_sd(model_state_dict, base_model)\n",
    "    results = {}\n",
    "    for dataset_cls in [ImageNet, ImageNetV2, ImageNetSketch, ImageNetR, ObjectNet, ImageNetA]:\n",
    "        print(f'Evaluating on {dataset_cls.__name__}.')\n",
    "        dataset = dataset_cls(preprocess, data_location, batch_size)\n",
    "        accuracy = test_model_on_dataset(model, dataset)\n",
    "        results[dataset_cls.__name__] = accuracy        \n",
    "    print(f'In-distribution (ImageNet): {results[\"ImageNet\"]}')\n",
    "    print(f'Average of out-of-distributions: {np.mean(list(results.values())[1:])}')\n",
    "    return results"
   ]
  },
  {
   "cell_type": "code",
   "execution_count": null,
   "metadata": {},
   "outputs": [
    {
     "name": "stdout",
     "output_type": "stream",
     "text": [
      "Evaluating on ImageNet.\n",
      "[0% 0/196]\tAcc: 89.45\tData (t) 9.881\tBatch (t) 20.911\n",
      "[10% 20/196]\tAcc: 82.57\tData (t) 0.013\tBatch (t) 0.155\n",
      "[20% 40/196]\tAcc: 81.98\tData (t) 0.013\tBatch (t) 0.177\n",
      "[31% 60/196]\tAcc: 81.35\tData (t) 0.013\tBatch (t) 0.164\n",
      "[41% 80/196]\tAcc: 81.75\tData (t) 0.013\tBatch (t) 0.173\n",
      "[51% 100/196]\tAcc: 80.85\tData (t) 0.013\tBatch (t) 0.169\n",
      "[61% 120/196]\tAcc: 80.79\tData (t) 0.013\tBatch (t) 0.158\n",
      "[71% 140/196]\tAcc: 80.38\tData (t) 0.013\tBatch (t) 0.148\n",
      "[82% 160/196]\tAcc: 80.08\tData (t) 0.013\tBatch (t) 0.148\n",
      "[92% 180/196]\tAcc: 79.75\tData (t) 0.013\tBatch (t) 0.152\n",
      "Evaluating on ImageNetV2.\n",
      "[0% 0/40]\tAcc: 78.52\tData (t) 5.789\tBatch (t) 5.996\n",
      "[50% 20/40]\tAcc: 70.35\tData (t) 0.013\tBatch (t) 0.147\n",
      "Evaluating on ImageNetSketch.\n",
      "[0% 0/199]\tAcc: 40.62\tData (t) 6.046\tBatch (t) 6.243\n",
      "[10% 20/199]\tAcc: 38.84\tData (t) 0.013\tBatch (t) 0.195\n",
      "[20% 40/199]\tAcc: 41.76\tData (t) 0.013\tBatch (t) 0.192\n",
      "[30% 60/199]\tAcc: 42.32\tData (t) 0.013\tBatch (t) 0.190\n",
      "[40% 80/199]\tAcc: 43.99\tData (t) 0.013\tBatch (t) 0.166\n",
      "[50% 100/199]\tAcc: 45.24\tData (t) 0.013\tBatch (t) 0.187\n",
      "[60% 120/199]\tAcc: 46.56\tData (t) 0.013\tBatch (t) 0.162\n",
      "[70% 140/199]\tAcc: 46.30\tData (t) 0.013\tBatch (t) 0.160\n",
      "[80% 160/199]\tAcc: 46.67\tData (t) 0.013\tBatch (t) 0.151\n",
      "[90% 180/199]\tAcc: 47.48\tData (t) 0.013\tBatch (t) 0.149\n",
      "Evaluating on ImageNetR.\n",
      "[0% 0/118]\tAcc: 58.20\tData (t) 4.527\tBatch (t) 4.802\n",
      "[17% 20/118]\tAcc: 61.09\tData (t) 0.013\tBatch (t) 0.161\n",
      "[34% 40/118]\tAcc: 65.17\tData (t) 0.013\tBatch (t) 0.292\n",
      "[51% 60/118]\tAcc: 62.90\tData (t) 0.013\tBatch (t) 0.154\n",
      "[68% 80/118]\tAcc: 62.91\tData (t) 0.013\tBatch (t) 0.161\n",
      "[85% 100/118]\tAcc: 64.75\tData (t) 0.013\tBatch (t) 0.150\n",
      "Evaluating on ObjectNet.\n",
      "[0% 0/73]\tAcc: 45.70\tData (t) 61.028\tBatch (t) 61.203\n",
      "[27% 20/73]\tAcc: 45.05\tData (t) 0.013\tBatch (t) 0.157\n",
      "[55% 40/73]\tAcc: 48.41\tData (t) 0.013\tBatch (t) 0.158\n",
      "[82% 60/73]\tAcc: 46.68\tData (t) 0.013\tBatch (t) 0.152\n",
      "Evaluating on ImageNetA.\n",
      "[0% 0/30]\tAcc: 32.03\tData (t) 4.669\tBatch (t) 4.849\n",
      "[67% 20/30]\tAcc: 29.45\tData (t) 0.013\tBatch (t) 0.149\n",
      "In-distribution (ImageNet): 0.79894\n",
      "Average of out-of-distributions: 0.509934089368576\n",
      "Evaluating on ImageNet.\n",
      "[0% 0/196]\tAcc: 89.45\tData (t) 6.056\tBatch (t) 6.301\n",
      "[10% 20/196]\tAcc: 82.57\tData (t) 0.013\tBatch (t) 0.163\n",
      "[20% 40/196]\tAcc: 81.98\tData (t) 0.013\tBatch (t) 0.167\n",
      "[31% 60/196]\tAcc: 81.35\tData (t) 0.014\tBatch (t) 0.163\n",
      "[41% 80/196]\tAcc: 81.75\tData (t) 0.013\tBatch (t) 0.152\n",
      "[51% 100/196]\tAcc: 80.85\tData (t) 0.013\tBatch (t) 0.294\n",
      "[61% 120/196]\tAcc: 80.79\tData (t) 0.021\tBatch (t) 0.171\n",
      "[71% 140/196]\tAcc: 80.38\tData (t) 0.013\tBatch (t) 0.156\n",
      "[82% 160/196]\tAcc: 80.08\tData (t) 0.013\tBatch (t) 0.151\n",
      "[92% 180/196]\tAcc: 79.75\tData (t) 0.013\tBatch (t) 0.153\n",
      "Evaluating on ImageNetV2.\n",
      "[0% 0/40]\tAcc: 78.52\tData (t) 4.738\tBatch (t) 4.928\n",
      "[50% 20/40]\tAcc: 70.35\tData (t) 0.013\tBatch (t) 0.148\n",
      "Evaluating on ImageNetSketch.\n",
      "[0% 0/199]\tAcc: 40.62\tData (t) 6.072\tBatch (t) 6.286\n",
      "[10% 20/199]\tAcc: 38.84\tData (t) 0.013\tBatch (t) 0.319\n",
      "[20% 40/199]\tAcc: 41.76\tData (t) 0.013\tBatch (t) 0.167\n",
      "[30% 60/199]\tAcc: 42.32\tData (t) 0.013\tBatch (t) 0.186\n",
      "[40% 80/199]\tAcc: 43.99\tData (t) 0.013\tBatch (t) 0.187\n",
      "[50% 100/199]\tAcc: 45.24\tData (t) 0.013\tBatch (t) 0.195\n",
      "[60% 120/199]\tAcc: 46.56\tData (t) 0.013\tBatch (t) 0.177\n",
      "[70% 140/199]\tAcc: 46.30\tData (t) 0.013\tBatch (t) 0.181\n",
      "[80% 160/199]\tAcc: 46.67\tData (t) 0.013\tBatch (t) 0.160\n",
      "[90% 180/199]\tAcc: 47.48\tData (t) 0.013\tBatch (t) 0.149\n",
      "Evaluating on ImageNetR.\n",
      "[0% 0/118]\tAcc: 58.20\tData (t) 4.285\tBatch (t) 4.482\n",
      "[17% 20/118]\tAcc: 61.09\tData (t) 0.013\tBatch (t) 0.165\n",
      "[34% 40/118]\tAcc: 65.17\tData (t) 0.013\tBatch (t) 0.157\n",
      "[51% 60/118]\tAcc: 62.90\tData (t) 0.013\tBatch (t) 0.157\n",
      "[68% 80/118]\tAcc: 62.91\tData (t) 0.013\tBatch (t) 0.155\n",
      "[85% 100/118]\tAcc: 64.75\tData (t) 0.013\tBatch (t) 0.147\n",
      "Evaluating on ObjectNet.\n",
      "[0% 0/73]\tAcc: 45.70\tData (t) 51.381\tBatch (t) 51.544\n",
      "[27% 20/73]\tAcc: 45.05\tData (t) 0.013\tBatch (t) 0.168\n",
      "[55% 40/73]\tAcc: 48.41\tData (t) 0.013\tBatch (t) 0.144\n",
      "[82% 60/73]\tAcc: 46.68\tData (t) 0.013\tBatch (t) 0.151\n",
      "Evaluating on ImageNetA.\n",
      "[0% 0/30]\tAcc: 32.03\tData (t) 4.067\tBatch (t) 4.244\n",
      "[67% 20/30]\tAcc: 29.45\tData (t) 0.013\tBatch (t) 0.146\n",
      "In-distribution (ImageNet): 0.79894\n",
      "Average of out-of-distributions: 0.509934089368576\n"
     ]
    },
    {
     "data": {
      "text/plain": [
       "{'ImageNet': 0.79894,\n",
       " 'ImageNetV2': 0.6893,\n",
       " 'ImageNetSketch': 0.4621037945331997,\n",
       " 'ImageNetR': 0.6429333333333334,\n",
       " 'ObjectNet': 0.4630666523096802,\n",
       " 'ImageNetA': 0.2922666666666667}"
      ]
     },
     "execution_count": 4,
     "metadata": {},
     "output_type": "execute_result"
    }
   ],
   "source": [
    "eval_model(model_stock)"
   ]
  },
  {
   "cell_type": "code",
   "execution_count": 12,
   "metadata": {},
   "outputs": [
    {
     "name": "stdout",
     "output_type": "stream",
     "text": [
      "Evaluating on ImageNet.\n",
      "[0% 0/196]\tAcc: 88.67\tData (t) 5.686\tBatch (t) 5.915\n",
      "[10% 20/196]\tAcc: 83.63\tData (t) 0.013\tBatch (t) 0.178\n",
      "[20% 40/196]\tAcc: 83.55\tData (t) 0.013\tBatch (t) 0.181\n",
      "[31% 60/196]\tAcc: 83.07\tData (t) 0.014\tBatch (t) 0.159\n",
      "[41% 80/196]\tAcc: 83.37\tData (t) 0.013\tBatch (t) 0.167\n",
      "[51% 100/196]\tAcc: 82.32\tData (t) 0.014\tBatch (t) 0.182\n",
      "[61% 120/196]\tAcc: 82.36\tData (t) 0.013\tBatch (t) 0.166\n",
      "[71% 140/196]\tAcc: 81.88\tData (t) 0.013\tBatch (t) 0.152\n",
      "[82% 160/196]\tAcc: 81.63\tData (t) 0.013\tBatch (t) 0.148\n",
      "[92% 180/196]\tAcc: 81.21\tData (t) 0.013\tBatch (t) 0.154\n",
      "Evaluating on ImageNetV2.\n",
      "[0% 0/40]\tAcc: 80.08\tData (t) 4.866\tBatch (t) 5.078\n",
      "[50% 20/40]\tAcc: 71.84\tData (t) 0.013\tBatch (t) 0.147\n",
      "Evaluating on ImageNetSketch.\n",
      "[0% 0/199]\tAcc: 50.39\tData (t) 6.453\tBatch (t) 6.660\n",
      "[10% 20/199]\tAcc: 38.36\tData (t) 0.013\tBatch (t) 0.184\n",
      "[20% 40/199]\tAcc: 42.04\tData (t) 0.013\tBatch (t) 0.179\n",
      "[30% 60/199]\tAcc: 42.85\tData (t) 0.014\tBatch (t) 0.188\n",
      "[40% 80/199]\tAcc: 44.46\tData (t) 0.013\tBatch (t) 0.158\n",
      "[50% 100/199]\tAcc: 45.29\tData (t) 0.013\tBatch (t) 0.195\n",
      "[60% 120/199]\tAcc: 46.49\tData (t) 0.013\tBatch (t) 0.153\n",
      "[70% 140/199]\tAcc: 46.23\tData (t) 0.013\tBatch (t) 0.192\n",
      "[80% 160/199]\tAcc: 46.63\tData (t) 0.013\tBatch (t) 0.142\n",
      "[90% 180/199]\tAcc: 47.35\tData (t) 0.013\tBatch (t) 0.147\n",
      "Evaluating on ImageNetR.\n",
      "[0% 0/118]\tAcc: 52.34\tData (t) 4.438\tBatch (t) 4.654\n",
      "[17% 20/118]\tAcc: 55.78\tData (t) 0.014\tBatch (t) 0.179\n",
      "[34% 40/118]\tAcc: 61.24\tData (t) 0.013\tBatch (t) 0.154\n",
      "[51% 60/118]\tAcc: 58.80\tData (t) 0.013\tBatch (t) 0.159\n",
      "[68% 80/118]\tAcc: 58.96\tData (t) 0.013\tBatch (t) 0.157\n",
      "[85% 100/118]\tAcc: 61.24\tData (t) 0.013\tBatch (t) 0.161\n",
      "Evaluating on ObjectNet.\n",
      "[0% 0/73]\tAcc: 41.02\tData (t) 76.720\tBatch (t) 76.894\n",
      "[27% 20/73]\tAcc: 43.19\tData (t) 0.013\tBatch (t) 0.162\n",
      "[55% 40/73]\tAcc: 45.14\tData (t) 0.013\tBatch (t) 0.156\n",
      "[82% 60/73]\tAcc: 43.02\tData (t) 0.013\tBatch (t) 0.150\n",
      "Evaluating on ImageNetA.\n",
      "[0% 0/30]\tAcc: 22.66\tData (t) 5.587\tBatch (t) 5.778\n",
      "[67% 20/30]\tAcc: 22.82\tData (t) 0.013\tBatch (t) 0.150\n",
      "In-distribution (ImageNet): 0.8133\n",
      "Average of out-of-distributions: 0.4882288436478067\n"
     ]
    },
    {
     "data": {
      "text/plain": [
       "{'ImageNet': 0.8133,\n",
       " 'ImageNetV2': 0.7048,\n",
       " 'ImageNetSketch': 0.4581933227220028,\n",
       " 'ImageNetR': 0.6095666666666667,\n",
       " 'ObjectNet': 0.42871756218369766,\n",
       " 'ImageNetA': 0.23986666666666667}"
      ]
     },
     "execution_count": 12,
     "metadata": {},
     "output_type": "execute_result"
    }
   ],
   "source": [
    "eval_model(model_stock_star)"
   ]
  }
 ],
 "metadata": {
  "kernelspec": {
   "display_name": "Python 3",
   "language": "python",
   "name": "python3"
  },
  "language_info": {
   "codemirror_mode": {
    "name": "ipython",
    "version": 3
   },
   "file_extension": ".py",
   "mimetype": "text/x-python",
   "name": "python",
   "nbconvert_exporter": "python",
   "pygments_lexer": "ipython3",
   "version": "3.8.10"
  }
 },
 "nbformat": 4,
 "nbformat_minor": 2
}
